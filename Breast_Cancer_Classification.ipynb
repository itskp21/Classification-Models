{
  "metadata": {
    "kernelspec": {
      "language": "python",
      "display_name": "Python 3",
      "name": "python3"
    },
    "language_info": {
      "name": "python",
      "version": "3.10.13",
      "mimetype": "text/x-python",
      "codemirror_mode": {
        "name": "ipython",
        "version": 3
      },
      "pygments_lexer": "ipython3",
      "nbconvert_exporter": "python",
      "file_extension": ".py"
    },
    "kaggle": {
      "accelerator": "none",
      "dataSources": [
        {
          "sourceId": 7739531,
          "sourceType": "datasetVersion",
          "datasetId": 4523562
        }
      ],
      "dockerImageVersionId": 30664,
      "isInternetEnabled": false,
      "language": "python",
      "sourceType": "notebook",
      "isGpuEnabled": false
    },
    "colab": {
      "name": "Breast Cancer Classification",
      "provenance": [],
      "include_colab_link": true
    }
  },
  "nbformat_minor": 0,
  "nbformat": 4,
  "cells": [
    {
      "cell_type": "markdown",
      "metadata": {
        "id": "view-in-github",
        "colab_type": "text"
      },
      "source": [
        "<a href=\"https://colab.research.google.com/github/itskp21/Heart-Disease-Classification/blob/main/Breast_Cancer_Classification.ipynb\" target=\"_parent\"><img src=\"https://colab.research.google.com/assets/colab-badge.svg\" alt=\"Open In Colab\"/></a>"
      ]
    },
    {
      "source": [
        "\n",
        "# IMPORTANT: RUN THIS CELL IN ORDER TO IMPORT YOUR KAGGLE DATA SOURCES\n",
        "# TO THE CORRECT LOCATION (/kaggle/input) IN YOUR NOTEBOOK,\n",
        "# THEN FEEL FREE TO DELETE THIS CELL.\n",
        "# NOTE: THIS NOTEBOOK ENVIRONMENT DIFFERS FROM KAGGLE'S PYTHON\n",
        "# ENVIRONMENT SO THERE MAY BE MISSING LIBRARIES USED BY YOUR\n",
        "# NOTEBOOK.\n",
        "\n",
        "import os\n",
        "import sys\n",
        "from tempfile import NamedTemporaryFile\n",
        "from urllib.request import urlopen\n",
        "from urllib.parse import unquote, urlparse\n",
        "from urllib.error import HTTPError\n",
        "from zipfile import ZipFile\n",
        "import tarfile\n",
        "import shutil\n",
        "\n",
        "CHUNK_SIZE = 40960\n",
        "DATA_SOURCE_MAPPING = 'breast-cancer:https%3A%2F%2Fstorage.googleapis.com%2Fkaggle-data-sets%2F4523562%2F7739531%2Fbundle%2Farchive.zip%3FX-Goog-Algorithm%3DGOOG4-RSA-SHA256%26X-Goog-Credential%3Dgcp-kaggle-com%2540kaggle-161607.iam.gserviceaccount.com%252F20240309%252Fauto%252Fstorage%252Fgoog4_request%26X-Goog-Date%3D20240309T195629Z%26X-Goog-Expires%3D259200%26X-Goog-SignedHeaders%3Dhost%26X-Goog-Signature%3D72fe6623ea475521e1b4737cd35c7eb40e981d391f2fb900ea42920e4aea30bca421ca2c27dde79cb7cb2c72e48737509cfa30baf7b4162277291877c23da34090008180240b465e67336a562cba080a129be3b0f9d7657094c9df5834f54ca4f1de42ee0dcd7602e5811c5bd4afe62c46a456e4b203590fc2d82292ab646b61af51da0aa1059e567249b808a7d6e273ecb8d2ccb854041cead7308254675e461eeb3b6e026fe62226592c13d881cd5860c9338a50bfbe342c48259d3e8fa0d1562bc35810018099f96fa560dc446b416db28408d3ec1c268d1bfa3be96caf1b57168098a20efc092cb2c4400d598a4f1ee87253265bf23b9f3ac43ee0302b2b'\n",
        "\n",
        "KAGGLE_INPUT_PATH='/kaggle/input'\n",
        "KAGGLE_WORKING_PATH='/kaggle/working'\n",
        "KAGGLE_SYMLINK='kaggle'\n",
        "\n",
        "!umount /kaggle/input/ 2> /dev/null\n",
        "shutil.rmtree('/kaggle/input', ignore_errors=True)\n",
        "os.makedirs(KAGGLE_INPUT_PATH, 0o777, exist_ok=True)\n",
        "os.makedirs(KAGGLE_WORKING_PATH, 0o777, exist_ok=True)\n",
        "\n",
        "try:\n",
        "  os.symlink(KAGGLE_INPUT_PATH, os.path.join(\"..\", 'input'), target_is_directory=True)\n",
        "except FileExistsError:\n",
        "  pass\n",
        "try:\n",
        "  os.symlink(KAGGLE_WORKING_PATH, os.path.join(\"..\", 'working'), target_is_directory=True)\n",
        "except FileExistsError:\n",
        "  pass\n",
        "\n",
        "for data_source_mapping in DATA_SOURCE_MAPPING.split(','):\n",
        "    directory, download_url_encoded = data_source_mapping.split(':')\n",
        "    download_url = unquote(download_url_encoded)\n",
        "    filename = urlparse(download_url).path\n",
        "    destination_path = os.path.join(KAGGLE_INPUT_PATH, directory)\n",
        "    try:\n",
        "        with urlopen(download_url) as fileres, NamedTemporaryFile() as tfile:\n",
        "            total_length = fileres.headers['content-length']\n",
        "            print(f'Downloading {directory}, {total_length} bytes compressed')\n",
        "            dl = 0\n",
        "            data = fileres.read(CHUNK_SIZE)\n",
        "            while len(data) > 0:\n",
        "                dl += len(data)\n",
        "                tfile.write(data)\n",
        "                done = int(50 * dl / int(total_length))\n",
        "                sys.stdout.write(f\"\\r[{'=' * done}{' ' * (50-done)}] {dl} bytes downloaded\")\n",
        "                sys.stdout.flush()\n",
        "                data = fileres.read(CHUNK_SIZE)\n",
        "            if filename.endswith('.zip'):\n",
        "              with ZipFile(tfile) as zfile:\n",
        "                zfile.extractall(destination_path)\n",
        "            else:\n",
        "              with tarfile.open(tfile.name) as tarfile:\n",
        "                tarfile.extractall(destination_path)\n",
        "            print(f'\\nDownloaded and uncompressed: {directory}')\n",
        "    except HTTPError as e:\n",
        "        print(f'Failed to load (likely expired) {download_url} to path {destination_path}')\n",
        "        continue\n",
        "    except OSError as e:\n",
        "        print(f'Failed to load {download_url} to path {destination_path}')\n",
        "        continue\n",
        "\n",
        "print('Data source import complete.')\n"
      ],
      "metadata": {
        "id": "Em9UbVA5yeyQ"
      },
      "cell_type": "code",
      "outputs": [],
      "execution_count": null
    },
    {
      "cell_type": "code",
      "source": [
        "# This Python 3 environment comes with many helpful analytics libraries installed\n",
        "# It is defined by the kaggle/python Docker image: https://github.com/kaggle/docker-python\n",
        "# For example, here's several helpful packages to load\n",
        "\n",
        "import numpy as np # linear algebra\n",
        "import pandas as pd # data processing, CSV file I/O (e.g. pd.read_csv)\n",
        "\n",
        "# Input data files are available in the read-only \"../input/\" directory\n",
        "# For example, running this (by clicking run or pressing Shift+Enter) will list all files under the input directory\n",
        "\n",
        "import os\n",
        "for dirname, _, filenames in os.walk('/kaggle/input'):\n",
        "    for filename in filenames:\n",
        "        print(os.path.join(dirname, filename))\n",
        "\n",
        "# You can write up to 20GB to the current directory (/kaggle/working/) that gets preserved as output when you create a version using \"Save & Run All\"\n",
        "# You can also write temporary files to /kaggle/temp/, but they won't be saved outside of the current session"
      ],
      "metadata": {
        "_uuid": "8f2839f25d086af736a60e9eeb907d3b93b6e0e5",
        "_cell_guid": "b1076dfc-b9ad-4769-8c92-a6c4dae69d19",
        "execution": {
          "iopub.status.busy": "2024-03-09T19:24:59.413673Z",
          "iopub.execute_input": "2024-03-09T19:24:59.414085Z",
          "iopub.status.idle": "2024-03-09T19:24:59.881289Z",
          "shell.execute_reply.started": "2024-03-09T19:24:59.414054Z",
          "shell.execute_reply": "2024-03-09T19:24:59.879962Z"
        },
        "trusted": true,
        "id": "yI9qMuCiyeyT",
        "outputId": "00fa7e15-faaa-4ff5-9e36-297638c177ab"
      },
      "execution_count": null,
      "outputs": [
        {
          "name": "stdout",
          "text": "/kaggle/input/breast-cancer/data.csv\n",
          "output_type": "stream"
        }
      ]
    },
    {
      "cell_type": "markdown",
      "source": [
        "## Load The Data"
      ],
      "metadata": {
        "id": "xeZHWCb0yeyU"
      }
    },
    {
      "cell_type": "code",
      "source": [
        "df = pd.read_csv(\"/kaggle/input/breast-cancer/data.csv\")\n",
        "df"
      ],
      "metadata": {
        "execution": {
          "iopub.status.busy": "2024-03-09T19:24:59.883201Z",
          "iopub.execute_input": "2024-03-09T19:24:59.883694Z",
          "iopub.status.idle": "2024-03-09T19:24:59.961534Z",
          "shell.execute_reply.started": "2024-03-09T19:24:59.883662Z",
          "shell.execute_reply": "2024-03-09T19:24:59.960217Z"
        },
        "trusted": true,
        "id": "YbdQihppyeyV",
        "outputId": "2497836d-4918-485a-8705-7da3dd1a1c01"
      },
      "execution_count": null,
      "outputs": [
        {
          "execution_count": 4,
          "output_type": "execute_result",
          "data": {
            "text/plain": "           id diagnosis  radius_mean  texture_mean  perimeter_mean  area_mean  \\\n0      842302         M        17.99         10.38          122.80     1001.0   \n1      842517         M        20.57         17.77          132.90     1326.0   \n2    84300903         M        19.69         21.25          130.00     1203.0   \n3    84348301         M        11.42         20.38           77.58      386.1   \n4    84358402         M        20.29         14.34          135.10     1297.0   \n..        ...       ...          ...           ...             ...        ...   \n564    926424         M        21.56         22.39          142.00     1479.0   \n565    926682         M        20.13         28.25          131.20     1261.0   \n566    926954         M        16.60         28.08          108.30      858.1   \n567    927241         M        20.60         29.33          140.10     1265.0   \n568     92751         B         7.76         24.54           47.92      181.0   \n\n     smoothness_mean  compactness_mean  concavity_mean  concave_points_mean  \\\n0            0.11840           0.27760         0.30010              0.14710   \n1            0.08474           0.07864         0.08690              0.07017   \n2            0.10960           0.15990         0.19740              0.12790   \n3            0.14250           0.28390         0.24140              0.10520   \n4            0.10030           0.13280         0.19800              0.10430   \n..               ...               ...             ...                  ...   \n564          0.11100           0.11590         0.24390              0.13890   \n565          0.09780           0.10340         0.14400              0.09791   \n566          0.08455           0.10230         0.09251              0.05302   \n567          0.11780           0.27700         0.35140              0.15200   \n568          0.05263           0.04362         0.00000              0.00000   \n\n     ...  radius_worst  texture_worst  perimeter_worst  area_worst  \\\n0    ...        25.380          17.33           184.60      2019.0   \n1    ...        24.990          23.41           158.80      1956.0   \n2    ...        23.570          25.53           152.50      1709.0   \n3    ...        14.910          26.50            98.87       567.7   \n4    ...        22.540          16.67           152.20      1575.0   \n..   ...           ...            ...              ...         ...   \n564  ...        25.450          26.40           166.10      2027.0   \n565  ...        23.690          38.25           155.00      1731.0   \n566  ...        18.980          34.12           126.70      1124.0   \n567  ...        25.740          39.42           184.60      1821.0   \n568  ...         9.456          30.37            59.16       268.6   \n\n     smoothness_worst  compactness_worst  concavity_worst  \\\n0             0.16220            0.66560           0.7119   \n1             0.12380            0.18660           0.2416   \n2             0.14440            0.42450           0.4504   \n3             0.20980            0.86630           0.6869   \n4             0.13740            0.20500           0.4000   \n..                ...                ...              ...   \n564           0.14100            0.21130           0.4107   \n565           0.11660            0.19220           0.3215   \n566           0.11390            0.30940           0.3403   \n567           0.16500            0.86810           0.9387   \n568           0.08996            0.06444           0.0000   \n\n     concave_points_worst  symmetry_worst  fractal_dimension_worst  \n0                  0.2654          0.4601                  0.11890  \n1                  0.1860          0.2750                  0.08902  \n2                  0.2430          0.3613                  0.08758  \n3                  0.2575          0.6638                  0.17300  \n4                  0.1625          0.2364                  0.07678  \n..                    ...             ...                      ...  \n564                0.2216          0.2060                  0.07115  \n565                0.1628          0.2572                  0.06637  \n566                0.1418          0.2218                  0.07820  \n567                0.2650          0.4087                  0.12400  \n568                0.0000          0.2871                  0.07039  \n\n[569 rows x 32 columns]",
            "text/html": "<div>\n<style scoped>\n    .dataframe tbody tr th:only-of-type {\n        vertical-align: middle;\n    }\n\n    .dataframe tbody tr th {\n        vertical-align: top;\n    }\n\n    .dataframe thead th {\n        text-align: right;\n    }\n</style>\n<table border=\"1\" class=\"dataframe\">\n  <thead>\n    <tr style=\"text-align: right;\">\n      <th></th>\n      <th>id</th>\n      <th>diagnosis</th>\n      <th>radius_mean</th>\n      <th>texture_mean</th>\n      <th>perimeter_mean</th>\n      <th>area_mean</th>\n      <th>smoothness_mean</th>\n      <th>compactness_mean</th>\n      <th>concavity_mean</th>\n      <th>concave_points_mean</th>\n      <th>...</th>\n      <th>radius_worst</th>\n      <th>texture_worst</th>\n      <th>perimeter_worst</th>\n      <th>area_worst</th>\n      <th>smoothness_worst</th>\n      <th>compactness_worst</th>\n      <th>concavity_worst</th>\n      <th>concave_points_worst</th>\n      <th>symmetry_worst</th>\n      <th>fractal_dimension_worst</th>\n    </tr>\n  </thead>\n  <tbody>\n    <tr>\n      <th>0</th>\n      <td>842302</td>\n      <td>M</td>\n      <td>17.99</td>\n      <td>10.38</td>\n      <td>122.80</td>\n      <td>1001.0</td>\n      <td>0.11840</td>\n      <td>0.27760</td>\n      <td>0.30010</td>\n      <td>0.14710</td>\n      <td>...</td>\n      <td>25.380</td>\n      <td>17.33</td>\n      <td>184.60</td>\n      <td>2019.0</td>\n      <td>0.16220</td>\n      <td>0.66560</td>\n      <td>0.7119</td>\n      <td>0.2654</td>\n      <td>0.4601</td>\n      <td>0.11890</td>\n    </tr>\n    <tr>\n      <th>1</th>\n      <td>842517</td>\n      <td>M</td>\n      <td>20.57</td>\n      <td>17.77</td>\n      <td>132.90</td>\n      <td>1326.0</td>\n      <td>0.08474</td>\n      <td>0.07864</td>\n      <td>0.08690</td>\n      <td>0.07017</td>\n      <td>...</td>\n      <td>24.990</td>\n      <td>23.41</td>\n      <td>158.80</td>\n      <td>1956.0</td>\n      <td>0.12380</td>\n      <td>0.18660</td>\n      <td>0.2416</td>\n      <td>0.1860</td>\n      <td>0.2750</td>\n      <td>0.08902</td>\n    </tr>\n    <tr>\n      <th>2</th>\n      <td>84300903</td>\n      <td>M</td>\n      <td>19.69</td>\n      <td>21.25</td>\n      <td>130.00</td>\n      <td>1203.0</td>\n      <td>0.10960</td>\n      <td>0.15990</td>\n      <td>0.19740</td>\n      <td>0.12790</td>\n      <td>...</td>\n      <td>23.570</td>\n      <td>25.53</td>\n      <td>152.50</td>\n      <td>1709.0</td>\n      <td>0.14440</td>\n      <td>0.42450</td>\n      <td>0.4504</td>\n      <td>0.2430</td>\n      <td>0.3613</td>\n      <td>0.08758</td>\n    </tr>\n    <tr>\n      <th>3</th>\n      <td>84348301</td>\n      <td>M</td>\n      <td>11.42</td>\n      <td>20.38</td>\n      <td>77.58</td>\n      <td>386.1</td>\n      <td>0.14250</td>\n      <td>0.28390</td>\n      <td>0.24140</td>\n      <td>0.10520</td>\n      <td>...</td>\n      <td>14.910</td>\n      <td>26.50</td>\n      <td>98.87</td>\n      <td>567.7</td>\n      <td>0.20980</td>\n      <td>0.86630</td>\n      <td>0.6869</td>\n      <td>0.2575</td>\n      <td>0.6638</td>\n      <td>0.17300</td>\n    </tr>\n    <tr>\n      <th>4</th>\n      <td>84358402</td>\n      <td>M</td>\n      <td>20.29</td>\n      <td>14.34</td>\n      <td>135.10</td>\n      <td>1297.0</td>\n      <td>0.10030</td>\n      <td>0.13280</td>\n      <td>0.19800</td>\n      <td>0.10430</td>\n      <td>...</td>\n      <td>22.540</td>\n      <td>16.67</td>\n      <td>152.20</td>\n      <td>1575.0</td>\n      <td>0.13740</td>\n      <td>0.20500</td>\n      <td>0.4000</td>\n      <td>0.1625</td>\n      <td>0.2364</td>\n      <td>0.07678</td>\n    </tr>\n    <tr>\n      <th>...</th>\n      <td>...</td>\n      <td>...</td>\n      <td>...</td>\n      <td>...</td>\n      <td>...</td>\n      <td>...</td>\n      <td>...</td>\n      <td>...</td>\n      <td>...</td>\n      <td>...</td>\n      <td>...</td>\n      <td>...</td>\n      <td>...</td>\n      <td>...</td>\n      <td>...</td>\n      <td>...</td>\n      <td>...</td>\n      <td>...</td>\n      <td>...</td>\n      <td>...</td>\n      <td>...</td>\n    </tr>\n    <tr>\n      <th>564</th>\n      <td>926424</td>\n      <td>M</td>\n      <td>21.56</td>\n      <td>22.39</td>\n      <td>142.00</td>\n      <td>1479.0</td>\n      <td>0.11100</td>\n      <td>0.11590</td>\n      <td>0.24390</td>\n      <td>0.13890</td>\n      <td>...</td>\n      <td>25.450</td>\n      <td>26.40</td>\n      <td>166.10</td>\n      <td>2027.0</td>\n      <td>0.14100</td>\n      <td>0.21130</td>\n      <td>0.4107</td>\n      <td>0.2216</td>\n      <td>0.2060</td>\n      <td>0.07115</td>\n    </tr>\n    <tr>\n      <th>565</th>\n      <td>926682</td>\n      <td>M</td>\n      <td>20.13</td>\n      <td>28.25</td>\n      <td>131.20</td>\n      <td>1261.0</td>\n      <td>0.09780</td>\n      <td>0.10340</td>\n      <td>0.14400</td>\n      <td>0.09791</td>\n      <td>...</td>\n      <td>23.690</td>\n      <td>38.25</td>\n      <td>155.00</td>\n      <td>1731.0</td>\n      <td>0.11660</td>\n      <td>0.19220</td>\n      <td>0.3215</td>\n      <td>0.1628</td>\n      <td>0.2572</td>\n      <td>0.06637</td>\n    </tr>\n    <tr>\n      <th>566</th>\n      <td>926954</td>\n      <td>M</td>\n      <td>16.60</td>\n      <td>28.08</td>\n      <td>108.30</td>\n      <td>858.1</td>\n      <td>0.08455</td>\n      <td>0.10230</td>\n      <td>0.09251</td>\n      <td>0.05302</td>\n      <td>...</td>\n      <td>18.980</td>\n      <td>34.12</td>\n      <td>126.70</td>\n      <td>1124.0</td>\n      <td>0.11390</td>\n      <td>0.30940</td>\n      <td>0.3403</td>\n      <td>0.1418</td>\n      <td>0.2218</td>\n      <td>0.07820</td>\n    </tr>\n    <tr>\n      <th>567</th>\n      <td>927241</td>\n      <td>M</td>\n      <td>20.60</td>\n      <td>29.33</td>\n      <td>140.10</td>\n      <td>1265.0</td>\n      <td>0.11780</td>\n      <td>0.27700</td>\n      <td>0.35140</td>\n      <td>0.15200</td>\n      <td>...</td>\n      <td>25.740</td>\n      <td>39.42</td>\n      <td>184.60</td>\n      <td>1821.0</td>\n      <td>0.16500</td>\n      <td>0.86810</td>\n      <td>0.9387</td>\n      <td>0.2650</td>\n      <td>0.4087</td>\n      <td>0.12400</td>\n    </tr>\n    <tr>\n      <th>568</th>\n      <td>92751</td>\n      <td>B</td>\n      <td>7.76</td>\n      <td>24.54</td>\n      <td>47.92</td>\n      <td>181.0</td>\n      <td>0.05263</td>\n      <td>0.04362</td>\n      <td>0.00000</td>\n      <td>0.00000</td>\n      <td>...</td>\n      <td>9.456</td>\n      <td>30.37</td>\n      <td>59.16</td>\n      <td>268.6</td>\n      <td>0.08996</td>\n      <td>0.06444</td>\n      <td>0.0000</td>\n      <td>0.0000</td>\n      <td>0.2871</td>\n      <td>0.07039</td>\n    </tr>\n  </tbody>\n</table>\n<p>569 rows × 32 columns</p>\n</div>"
          },
          "metadata": {}
        }
      ]
    },
    {
      "cell_type": "code",
      "source": [
        "df.info()"
      ],
      "metadata": {
        "execution": {
          "iopub.status.busy": "2024-03-09T19:24:59.962709Z",
          "iopub.execute_input": "2024-03-09T19:24:59.963028Z",
          "iopub.status.idle": "2024-03-09T19:24:59.994589Z",
          "shell.execute_reply.started": "2024-03-09T19:24:59.962999Z",
          "shell.execute_reply": "2024-03-09T19:24:59.993235Z"
        },
        "trusted": true,
        "id": "HAfFKF5FyeyV",
        "outputId": "26985969-ef5c-4e38-c347-9aa871a1792c"
      },
      "execution_count": null,
      "outputs": [
        {
          "name": "stdout",
          "text": "<class 'pandas.core.frame.DataFrame'>\nRangeIndex: 569 entries, 0 to 568\nData columns (total 32 columns):\n #   Column                   Non-Null Count  Dtype  \n---  ------                   --------------  -----  \n 0   id                       569 non-null    int64  \n 1   diagnosis                569 non-null    object \n 2   radius_mean              569 non-null    float64\n 3   texture_mean             569 non-null    float64\n 4   perimeter_mean           569 non-null    float64\n 5   area_mean                569 non-null    float64\n 6   smoothness_mean          569 non-null    float64\n 7   compactness_mean         569 non-null    float64\n 8   concavity_mean           569 non-null    float64\n 9   concave_points_mean      569 non-null    float64\n 10  symmetry_mean            569 non-null    float64\n 11  fractal_dimension_mean   569 non-null    float64\n 12  radius_se                569 non-null    float64\n 13  texture_se               569 non-null    float64\n 14  perimeter_se             569 non-null    float64\n 15  area_se                  569 non-null    float64\n 16  smoothness_se            569 non-null    float64\n 17  compactness_se           569 non-null    float64\n 18  concavity_se             569 non-null    float64\n 19  concave_points_se        569 non-null    float64\n 20  symmetry_se              569 non-null    float64\n 21  fractal_dimension_se     569 non-null    float64\n 22  radius_worst             569 non-null    float64\n 23  texture_worst            569 non-null    float64\n 24  perimeter_worst          569 non-null    float64\n 25  area_worst               569 non-null    float64\n 26  smoothness_worst         569 non-null    float64\n 27  compactness_worst        569 non-null    float64\n 28  concavity_worst          569 non-null    float64\n 29  concave_points_worst     569 non-null    float64\n 30  symmetry_worst           569 non-null    float64\n 31  fractal_dimension_worst  569 non-null    float64\ndtypes: float64(30), int64(1), object(1)\nmemory usage: 142.4+ KB\n",
          "output_type": "stream"
        }
      ]
    },
    {
      "cell_type": "code",
      "source": [
        "df.describe()"
      ],
      "metadata": {
        "execution": {
          "iopub.status.busy": "2024-03-09T19:24:59.997965Z",
          "iopub.execute_input": "2024-03-09T19:24:59.998391Z",
          "iopub.status.idle": "2024-03-09T19:25:00.093209Z",
          "shell.execute_reply.started": "2024-03-09T19:24:59.998352Z",
          "shell.execute_reply": "2024-03-09T19:25:00.092227Z"
        },
        "trusted": true,
        "id": "gFuCf6ZcyeyW",
        "outputId": "dc3b6ba8-2e3b-4ef7-d4a1-6e1a1d9985b9"
      },
      "execution_count": null,
      "outputs": [
        {
          "execution_count": 6,
          "output_type": "execute_result",
          "data": {
            "text/plain": "                 id  radius_mean  texture_mean  perimeter_mean    area_mean  \\\ncount  5.690000e+02   569.000000    569.000000      569.000000   569.000000   \nmean   3.037183e+07    14.127292     19.289649       91.969033   654.889104   \nstd    1.250206e+08     3.524049      4.301036       24.298981   351.914129   \nmin    8.670000e+03     6.981000      9.710000       43.790000   143.500000   \n25%    8.692180e+05    11.700000     16.170000       75.170000   420.300000   \n50%    9.060240e+05    13.370000     18.840000       86.240000   551.100000   \n75%    8.813129e+06    15.780000     21.800000      104.100000   782.700000   \nmax    9.113205e+08    28.110000     39.280000      188.500000  2501.000000   \n\n       smoothness_mean  compactness_mean  concavity_mean  concave_points_mean  \\\ncount       569.000000        569.000000      569.000000           569.000000   \nmean          0.096360          0.104341        0.088799             0.048919   \nstd           0.014064          0.052813        0.079720             0.038803   \nmin           0.052630          0.019380        0.000000             0.000000   \n25%           0.086370          0.064920        0.029560             0.020310   \n50%           0.095870          0.092630        0.061540             0.033500   \n75%           0.105300          0.130400        0.130700             0.074000   \nmax           0.163400          0.345400        0.426800             0.201200   \n\n       symmetry_mean  ...  radius_worst  texture_worst  perimeter_worst  \\\ncount     569.000000  ...    569.000000     569.000000       569.000000   \nmean        0.181162  ...     16.269190      25.677223       107.261213   \nstd         0.027414  ...      4.833242       6.146258        33.602542   \nmin         0.106000  ...      7.930000      12.020000        50.410000   \n25%         0.161900  ...     13.010000      21.080000        84.110000   \n50%         0.179200  ...     14.970000      25.410000        97.660000   \n75%         0.195700  ...     18.790000      29.720000       125.400000   \nmax         0.304000  ...     36.040000      49.540000       251.200000   \n\n        area_worst  smoothness_worst  compactness_worst  concavity_worst  \\\ncount   569.000000        569.000000         569.000000       569.000000   \nmean    880.583128          0.132369           0.254265         0.272188   \nstd     569.356993          0.022832           0.157336         0.208624   \nmin     185.200000          0.071170           0.027290         0.000000   \n25%     515.300000          0.116600           0.147200         0.114500   \n50%     686.500000          0.131300           0.211900         0.226700   \n75%    1084.000000          0.146000           0.339100         0.382900   \nmax    4254.000000          0.222600           1.058000         1.252000   \n\n       concave_points_worst  symmetry_worst  fractal_dimension_worst  \ncount            569.000000      569.000000               569.000000  \nmean               0.114606        0.290076                 0.083946  \nstd                0.065732        0.061867                 0.018061  \nmin                0.000000        0.156500                 0.055040  \n25%                0.064930        0.250400                 0.071460  \n50%                0.099930        0.282200                 0.080040  \n75%                0.161400        0.317900                 0.092080  \nmax                0.291000        0.663800                 0.207500  \n\n[8 rows x 31 columns]",
            "text/html": "<div>\n<style scoped>\n    .dataframe tbody tr th:only-of-type {\n        vertical-align: middle;\n    }\n\n    .dataframe tbody tr th {\n        vertical-align: top;\n    }\n\n    .dataframe thead th {\n        text-align: right;\n    }\n</style>\n<table border=\"1\" class=\"dataframe\">\n  <thead>\n    <tr style=\"text-align: right;\">\n      <th></th>\n      <th>id</th>\n      <th>radius_mean</th>\n      <th>texture_mean</th>\n      <th>perimeter_mean</th>\n      <th>area_mean</th>\n      <th>smoothness_mean</th>\n      <th>compactness_mean</th>\n      <th>concavity_mean</th>\n      <th>concave_points_mean</th>\n      <th>symmetry_mean</th>\n      <th>...</th>\n      <th>radius_worst</th>\n      <th>texture_worst</th>\n      <th>perimeter_worst</th>\n      <th>area_worst</th>\n      <th>smoothness_worst</th>\n      <th>compactness_worst</th>\n      <th>concavity_worst</th>\n      <th>concave_points_worst</th>\n      <th>symmetry_worst</th>\n      <th>fractal_dimension_worst</th>\n    </tr>\n  </thead>\n  <tbody>\n    <tr>\n      <th>count</th>\n      <td>5.690000e+02</td>\n      <td>569.000000</td>\n      <td>569.000000</td>\n      <td>569.000000</td>\n      <td>569.000000</td>\n      <td>569.000000</td>\n      <td>569.000000</td>\n      <td>569.000000</td>\n      <td>569.000000</td>\n      <td>569.000000</td>\n      <td>...</td>\n      <td>569.000000</td>\n      <td>569.000000</td>\n      <td>569.000000</td>\n      <td>569.000000</td>\n      <td>569.000000</td>\n      <td>569.000000</td>\n      <td>569.000000</td>\n      <td>569.000000</td>\n      <td>569.000000</td>\n      <td>569.000000</td>\n    </tr>\n    <tr>\n      <th>mean</th>\n      <td>3.037183e+07</td>\n      <td>14.127292</td>\n      <td>19.289649</td>\n      <td>91.969033</td>\n      <td>654.889104</td>\n      <td>0.096360</td>\n      <td>0.104341</td>\n      <td>0.088799</td>\n      <td>0.048919</td>\n      <td>0.181162</td>\n      <td>...</td>\n      <td>16.269190</td>\n      <td>25.677223</td>\n      <td>107.261213</td>\n      <td>880.583128</td>\n      <td>0.132369</td>\n      <td>0.254265</td>\n      <td>0.272188</td>\n      <td>0.114606</td>\n      <td>0.290076</td>\n      <td>0.083946</td>\n    </tr>\n    <tr>\n      <th>std</th>\n      <td>1.250206e+08</td>\n      <td>3.524049</td>\n      <td>4.301036</td>\n      <td>24.298981</td>\n      <td>351.914129</td>\n      <td>0.014064</td>\n      <td>0.052813</td>\n      <td>0.079720</td>\n      <td>0.038803</td>\n      <td>0.027414</td>\n      <td>...</td>\n      <td>4.833242</td>\n      <td>6.146258</td>\n      <td>33.602542</td>\n      <td>569.356993</td>\n      <td>0.022832</td>\n      <td>0.157336</td>\n      <td>0.208624</td>\n      <td>0.065732</td>\n      <td>0.061867</td>\n      <td>0.018061</td>\n    </tr>\n    <tr>\n      <th>min</th>\n      <td>8.670000e+03</td>\n      <td>6.981000</td>\n      <td>9.710000</td>\n      <td>43.790000</td>\n      <td>143.500000</td>\n      <td>0.052630</td>\n      <td>0.019380</td>\n      <td>0.000000</td>\n      <td>0.000000</td>\n      <td>0.106000</td>\n      <td>...</td>\n      <td>7.930000</td>\n      <td>12.020000</td>\n      <td>50.410000</td>\n      <td>185.200000</td>\n      <td>0.071170</td>\n      <td>0.027290</td>\n      <td>0.000000</td>\n      <td>0.000000</td>\n      <td>0.156500</td>\n      <td>0.055040</td>\n    </tr>\n    <tr>\n      <th>25%</th>\n      <td>8.692180e+05</td>\n      <td>11.700000</td>\n      <td>16.170000</td>\n      <td>75.170000</td>\n      <td>420.300000</td>\n      <td>0.086370</td>\n      <td>0.064920</td>\n      <td>0.029560</td>\n      <td>0.020310</td>\n      <td>0.161900</td>\n      <td>...</td>\n      <td>13.010000</td>\n      <td>21.080000</td>\n      <td>84.110000</td>\n      <td>515.300000</td>\n      <td>0.116600</td>\n      <td>0.147200</td>\n      <td>0.114500</td>\n      <td>0.064930</td>\n      <td>0.250400</td>\n      <td>0.071460</td>\n    </tr>\n    <tr>\n      <th>50%</th>\n      <td>9.060240e+05</td>\n      <td>13.370000</td>\n      <td>18.840000</td>\n      <td>86.240000</td>\n      <td>551.100000</td>\n      <td>0.095870</td>\n      <td>0.092630</td>\n      <td>0.061540</td>\n      <td>0.033500</td>\n      <td>0.179200</td>\n      <td>...</td>\n      <td>14.970000</td>\n      <td>25.410000</td>\n      <td>97.660000</td>\n      <td>686.500000</td>\n      <td>0.131300</td>\n      <td>0.211900</td>\n      <td>0.226700</td>\n      <td>0.099930</td>\n      <td>0.282200</td>\n      <td>0.080040</td>\n    </tr>\n    <tr>\n      <th>75%</th>\n      <td>8.813129e+06</td>\n      <td>15.780000</td>\n      <td>21.800000</td>\n      <td>104.100000</td>\n      <td>782.700000</td>\n      <td>0.105300</td>\n      <td>0.130400</td>\n      <td>0.130700</td>\n      <td>0.074000</td>\n      <td>0.195700</td>\n      <td>...</td>\n      <td>18.790000</td>\n      <td>29.720000</td>\n      <td>125.400000</td>\n      <td>1084.000000</td>\n      <td>0.146000</td>\n      <td>0.339100</td>\n      <td>0.382900</td>\n      <td>0.161400</td>\n      <td>0.317900</td>\n      <td>0.092080</td>\n    </tr>\n    <tr>\n      <th>max</th>\n      <td>9.113205e+08</td>\n      <td>28.110000</td>\n      <td>39.280000</td>\n      <td>188.500000</td>\n      <td>2501.000000</td>\n      <td>0.163400</td>\n      <td>0.345400</td>\n      <td>0.426800</td>\n      <td>0.201200</td>\n      <td>0.304000</td>\n      <td>...</td>\n      <td>36.040000</td>\n      <td>49.540000</td>\n      <td>251.200000</td>\n      <td>4254.000000</td>\n      <td>0.222600</td>\n      <td>1.058000</td>\n      <td>1.252000</td>\n      <td>0.291000</td>\n      <td>0.663800</td>\n      <td>0.207500</td>\n    </tr>\n  </tbody>\n</table>\n<p>8 rows × 31 columns</p>\n</div>"
          },
          "metadata": {}
        }
      ]
    },
    {
      "cell_type": "code",
      "source": [
        "df['diagnosis'].value_counts()"
      ],
      "metadata": {
        "execution": {
          "iopub.status.busy": "2024-03-09T19:25:00.094776Z",
          "iopub.execute_input": "2024-03-09T19:25:00.095185Z",
          "iopub.status.idle": "2024-03-09T19:25:00.105964Z",
          "shell.execute_reply.started": "2024-03-09T19:25:00.095152Z",
          "shell.execute_reply": "2024-03-09T19:25:00.104651Z"
        },
        "trusted": true,
        "id": "XsczjQ6QyeyW",
        "outputId": "162b9c23-f39d-40e5-a2ee-8aaa81fb1e89"
      },
      "execution_count": null,
      "outputs": [
        {
          "execution_count": 7,
          "output_type": "execute_result",
          "data": {
            "text/plain": "diagnosis\nB    357\nM    212\nName: count, dtype: int64"
          },
          "metadata": {}
        }
      ]
    },
    {
      "cell_type": "code",
      "source": [
        "import matplotlib.pyplot as plt\n",
        "import seaborn as sns\n",
        "\n",
        "plt.figure(figsize = (4,6))\n",
        "plt.pie(df['diagnosis'].value_counts())\n",
        "plt.title('Diagnosis Pie Chart')\n",
        "plt.legend(df['diagnosis'].value_counts())\n"
      ],
      "metadata": {
        "execution": {
          "iopub.status.busy": "2024-03-09T19:25:00.108114Z",
          "iopub.execute_input": "2024-03-09T19:25:00.108615Z",
          "iopub.status.idle": "2024-03-09T19:25:01.109097Z",
          "shell.execute_reply.started": "2024-03-09T19:25:00.108573Z",
          "shell.execute_reply": "2024-03-09T19:25:01.107121Z"
        },
        "trusted": true,
        "id": "BKlcQeVZyeyX",
        "outputId": "211a5fa5-171c-4bda-a695-76dea3f52e7d"
      },
      "execution_count": null,
      "outputs": [
        {
          "execution_count": 8,
          "output_type": "execute_result",
          "data": {
            "text/plain": "<matplotlib.legend.Legend at 0x7cc280374bb0>"
          },
          "metadata": {}
        },
        {
          "output_type": "display_data",
          "data": {
            "text/plain": "<Figure size 400x600 with 1 Axes>",
            "image/png": "[encoded data removed]"
          },
          "metadata": {}
        }
      ]
    },
    {
      "cell_type": "code",
      "source": [
        "df.dtypes"
      ],
      "metadata": {
        "execution": {
          "iopub.status.busy": "2024-03-09T19:25:01.11713Z",
          "iopub.execute_input": "2024-03-09T19:25:01.119289Z",
          "iopub.status.idle": "2024-03-09T19:25:01.13448Z",
          "shell.execute_reply.started": "2024-03-09T19:25:01.119204Z",
          "shell.execute_reply": "2024-03-09T19:25:01.132831Z"
        },
        "trusted": true,
        "id": "019LM0OxyeyX",
        "outputId": "6051437e-7c09-47b3-e181-6732a72b3279"
      },
      "execution_count": null,
      "outputs": [
        {
          "execution_count": 9,
          "output_type": "execute_result",
          "data": {
            "text/plain": "id                           int64\ndiagnosis                   object\nradius_mean                float64\ntexture_mean               float64\nperimeter_mean             float64\narea_mean                  float64\nsmoothness_mean            float64\ncompactness_mean           float64\nconcavity_mean             float64\nconcave_points_mean        float64\nsymmetry_mean              float64\nfractal_dimension_mean     float64\nradius_se                  float64\ntexture_se                 float64\nperimeter_se               float64\narea_se                    float64\nsmoothness_se              float64\ncompactness_se             float64\nconcavity_se               float64\nconcave_points_se          float64\nsymmetry_se                float64\nfractal_dimension_se       float64\nradius_worst               float64\ntexture_worst              float64\nperimeter_worst            float64\narea_worst                 float64\nsmoothness_worst           float64\ncompactness_worst          float64\nconcavity_worst            float64\nconcave_points_worst       float64\nsymmetry_worst             float64\nfractal_dimension_worst    float64\ndtype: object"
          },
          "metadata": {}
        }
      ]
    },
    {
      "cell_type": "code",
      "source": [
        "##Check the data if there is any missing values or not\n",
        "df.isna().sum()"
      ],
      "metadata": {
        "execution": {
          "iopub.status.busy": "2024-03-09T19:25:01.136903Z",
          "iopub.execute_input": "2024-03-09T19:25:01.13809Z",
          "iopub.status.idle": "2024-03-09T19:25:01.15198Z",
          "shell.execute_reply.started": "2024-03-09T19:25:01.138026Z",
          "shell.execute_reply": "2024-03-09T19:25:01.150887Z"
        },
        "trusted": true,
        "id": "-lZxlXSoyeyX",
        "outputId": "d7b893ed-763f-46b1-a94c-356fbf7beea8"
      },
      "execution_count": null,
      "outputs": [
        {
          "execution_count": 10,
          "output_type": "execute_result",
          "data": {
            "text/plain": "id                         0\ndiagnosis                  0\nradius_mean                0\ntexture_mean               0\nperimeter_mean             0\narea_mean                  0\nsmoothness_mean            0\ncompactness_mean           0\nconcavity_mean             0\nconcave_points_mean        0\nsymmetry_mean              0\nfractal_dimension_mean     0\nradius_se                  0\ntexture_se                 0\nperimeter_se               0\narea_se                    0\nsmoothness_se              0\ncompactness_se             0\nconcavity_se               0\nconcave_points_se          0\nsymmetry_se                0\nfractal_dimension_se       0\nradius_worst               0\ntexture_worst              0\nperimeter_worst            0\narea_worst                 0\nsmoothness_worst           0\ncompactness_worst          0\nconcavity_worst            0\nconcave_points_worst       0\nsymmetry_worst             0\nfractal_dimension_worst    0\ndtype: int64"
          },
          "metadata": {}
        }
      ]
    },
    {
      "cell_type": "markdown",
      "source": [
        "## Split Data Into Training and Testing sets"
      ],
      "metadata": {
        "execution": {
          "iopub.status.busy": "2024-03-09T17:52:12.669049Z",
          "iopub.execute_input": "2024-03-09T17:52:12.669451Z",
          "iopub.status.idle": "2024-03-09T17:52:12.701419Z",
          "shell.execute_reply.started": "2024-03-09T17:52:12.669421Z",
          "shell.execute_reply": "2024-03-09T17:52:12.699887Z"
        },
        "id": "93NnzLdFyeyX"
      }
    },
    {
      "cell_type": "code",
      "source": [
        "x = df.drop(\"diagnosis\",axis =1)\n",
        "y = df['diagnosis']\n",
        "\n",
        "from sklearn.model_selection import train_test_split\n",
        "\n",
        "x_train,x_test,y_train,y_test = train_test_split(x,y,test_size = 0.2)"
      ],
      "metadata": {
        "execution": {
          "iopub.status.busy": "2024-03-09T19:25:01.15366Z",
          "iopub.execute_input": "2024-03-09T19:25:01.154253Z",
          "iopub.status.idle": "2024-03-09T19:25:01.381947Z",
          "shell.execute_reply.started": "2024-03-09T19:25:01.154221Z",
          "shell.execute_reply": "2024-03-09T19:25:01.380289Z"
        },
        "trusted": true,
        "id": "fJ8o7hpNyeyY"
      },
      "execution_count": null,
      "outputs": []
    },
    {
      "cell_type": "code",
      "source": [
        "x_train"
      ],
      "metadata": {
        "execution": {
          "iopub.status.busy": "2024-03-09T19:25:01.385743Z",
          "iopub.execute_input": "2024-03-09T19:25:01.386127Z",
          "iopub.status.idle": "2024-03-09T19:25:01.429883Z",
          "shell.execute_reply.started": "2024-03-09T19:25:01.386095Z",
          "shell.execute_reply": "2024-03-09T19:25:01.42845Z"
        },
        "trusted": true,
        "id": "GHy0fgjcyeyY",
        "outputId": "9b1af6ba-91c2-4132-a0da-1b523ec7de40"
      },
      "execution_count": null,
      "outputs": [
        {
          "execution_count": 12,
          "output_type": "execute_result",
          "data": {
            "text/plain": "          id  radius_mean  texture_mean  perimeter_mean  area_mean  \\\n332   897132       11.220         19.86           71.94      387.3   \n192   875099        9.720         18.22           60.73      288.1   \n209  8810436       15.270         12.91           98.17      725.5   \n401   904647       11.930         10.91           76.14      442.7   \n465  9113239       13.240         20.13           86.87      542.9   \n..       ...          ...           ...             ...        ...   \n458  9112594       13.000         25.13           82.61      520.2   \n110   864033        9.777         16.99           62.50      290.2   \n546   922577       10.320         16.35           65.31      324.9   \n61    858981        8.598         20.98           54.66      221.8   \n505   915276        9.676         13.14           64.12      272.5   \n\n     smoothness_mean  compactness_mean  concavity_mean  concave_points_mean  \\\n332          0.10540           0.06779        0.005006             0.007583   \n192          0.06950           0.02344        0.000000             0.000000   \n209          0.08182           0.06230        0.058920             0.031570   \n401          0.08872           0.05242        0.026060             0.017960   \n465          0.08284           0.12230        0.101000             0.028330   \n..               ...               ...             ...                  ...   \n458          0.08369           0.05073        0.012060             0.017620   \n110          0.10370           0.08404        0.043340             0.017780   \n546          0.09434           0.04994        0.010120             0.005495   \n61           0.12430           0.08963        0.030000             0.009259   \n505          0.12550           0.22040        0.118800             0.070380   \n\n     symmetry_mean  ...  radius_worst  texture_worst  perimeter_worst  \\\n332         0.1940  ...        11.980          25.78            76.91   \n192         0.1653  ...         9.968          20.83            62.25   \n209         0.1359  ...        17.380          15.92           113.70   \n401         0.1601  ...        13.800          20.14            87.64   \n465         0.1601  ...        15.440          25.50           115.00   \n..             ...  ...           ...            ...              ...   \n458         0.1667  ...        14.340          31.88            91.06   \n110         0.1584  ...        11.050          21.47            71.68   \n546         0.1885  ...        11.250          21.77            71.12   \n61          0.1828  ...         9.565          27.04            62.06   \n505         0.2057  ...        10.600          18.04            69.47   \n\n     area_worst  smoothness_worst  compactness_worst  concavity_worst  \\\n332       436.1           0.14240            0.09669          0.01335   \n192       303.8           0.07117            0.02729          0.00000   \n209       932.7           0.12220            0.21860          0.29620   \n401       589.5           0.13740            0.15750          0.15140   \n465       733.5           0.12010            0.56460          0.65560   \n..          ...               ...                ...              ...   \n458       628.5           0.12180            0.10930          0.04462   \n110       367.0           0.14670            0.17650          0.13000   \n546       384.9           0.12850            0.08842          0.04384   \n61        273.9           0.16390            0.16980          0.09001   \n505       328.1           0.20060            0.36630          0.29130   \n\n     concave_points_worst  symmetry_worst  fractal_dimension_worst  \n332               0.02022          0.3292                  0.06522  \n192               0.00000          0.1909                  0.06559  \n209               0.10350          0.2320                  0.07474  \n401               0.06876          0.2460                  0.07262  \n465               0.13570          0.2845                  0.12490  \n..                    ...             ...                      ...  \n458               0.05921          0.2306                  0.06291  \n110               0.05334          0.2533                  0.08468  \n546               0.02381          0.2681                  0.07399  \n61                0.02778          0.2972                  0.07712  \n505               0.10750          0.2848                  0.13640  \n\n[455 rows x 31 columns]",
            "text/html": "<div>\n<style scoped>\n    .dataframe tbody tr th:only-of-type {\n        vertical-align: middle;\n    }\n\n    .dataframe tbody tr th {\n        vertical-align: top;\n    }\n\n    .dataframe thead th {\n        text-align: right;\n    }\n</style>\n<table border=\"1\" class=\"dataframe\">\n  <thead>\n    <tr style=\"text-align: right;\">\n      <th></th>\n      <th>id</th>\n      <th>radius_mean</th>\n      <th>texture_mean</th>\n      <th>perimeter_mean</th>\n      <th>area_mean</th>\n      <th>smoothness_mean</th>\n      <th>compactness_mean</th>\n      <th>concavity_mean</th>\n      <th>concave_points_mean</th>\n      <th>symmetry_mean</th>\n      <th>...</th>\n      <th>radius_worst</th>\n      <th>texture_worst</th>\n      <th>perimeter_worst</th>\n      <th>area_worst</th>\n      <th>smoothness_worst</th>\n      <th>compactness_worst</th>\n      <th>concavity_worst</th>\n      <th>concave_points_worst</th>\n      <th>symmetry_worst</th>\n      <th>fractal_dimension_worst</th>\n    </tr>\n  </thead>\n  <tbody>\n    <tr>\n      <th>332</th>\n      <td>897132</td>\n      <td>11.220</td>\n      <td>19.86</td>\n      <td>71.94</td>\n      <td>387.3</td>\n      <td>0.10540</td>\n      <td>0.06779</td>\n      <td>0.005006</td>\n      <td>0.007583</td>\n      <td>0.1940</td>\n      <td>...</td>\n      <td>11.980</td>\n      <td>25.78</td>\n      <td>76.91</td>\n      <td>436.1</td>\n      <td>0.14240</td>\n      <td>0.09669</td>\n      <td>0.01335</td>\n      <td>0.02022</td>\n      <td>0.3292</td>\n      <td>0.06522</td>\n    </tr>\n    <tr>\n      <th>192</th>\n      <td>875099</td>\n      <td>9.720</td>\n      <td>18.22</td>\n      <td>60.73</td>\n      <td>288.1</td>\n      <td>0.06950</td>\n      <td>0.02344</td>\n      <td>0.000000</td>\n      <td>0.000000</td>\n      <td>0.1653</td>\n      <td>...</td>\n      <td>9.968</td>\n      <td>20.83</td>\n      <td>62.25</td>\n      <td>303.8</td>\n      <td>0.07117</td>\n      <td>0.02729</td>\n      <td>0.00000</td>\n      <td>0.00000</td>\n      <td>0.1909</td>\n      <td>0.06559</td>\n    </tr>\n    <tr>\n      <th>209</th>\n      <td>8810436</td>\n      <td>15.270</td>\n      <td>12.91</td>\n      <td>98.17</td>\n      <td>725.5</td>\n      <td>0.08182</td>\n      <td>0.06230</td>\n      <td>0.058920</td>\n      <td>0.031570</td>\n      <td>0.1359</td>\n      <td>...</td>\n      <td>17.380</td>\n      <td>15.92</td>\n      <td>113.70</td>\n      <td>932.7</td>\n      <td>0.12220</td>\n      <td>0.21860</td>\n      <td>0.29620</td>\n      <td>0.10350</td>\n      <td>0.2320</td>\n      <td>0.07474</td>\n    </tr>\n    <tr>\n      <th>401</th>\n      <td>904647</td>\n      <td>11.930</td>\n      <td>10.91</td>\n      <td>76.14</td>\n      <td>442.7</td>\n      <td>0.08872</td>\n      <td>0.05242</td>\n      <td>0.026060</td>\n      <td>0.017960</td>\n      <td>0.1601</td>\n      <td>...</td>\n      <td>13.800</td>\n      <td>20.14</td>\n      <td>87.64</td>\n      <td>589.5</td>\n      <td>0.13740</td>\n      <td>0.15750</td>\n      <td>0.15140</td>\n      <td>0.06876</td>\n      <td>0.2460</td>\n      <td>0.07262</td>\n    </tr>\n    <tr>\n      <th>465</th>\n      <td>9113239</td>\n      <td>13.240</td>\n      <td>20.13</td>\n      <td>86.87</td>\n      <td>542.9</td>\n      <td>0.08284</td>\n      <td>0.12230</td>\n      <td>0.101000</td>\n      <td>0.028330</td>\n      <td>0.1601</td>\n      <td>...</td>\n      <td>15.440</td>\n      <td>25.50</td>\n      <td>115.00</td>\n      <td>733.5</td>\n      <td>0.12010</td>\n      <td>0.56460</td>\n      <td>0.65560</td>\n      <td>0.13570</td>\n      <td>0.2845</td>\n      <td>0.12490</td>\n    </tr>\n    <tr>\n      <th>...</th>\n      <td>...</td>\n      <td>...</td>\n      <td>...</td>\n      <td>...</td>\n      <td>...</td>\n      <td>...</td>\n      <td>...</td>\n      <td>...</td>\n      <td>...</td>\n      <td>...</td>\n      <td>...</td>\n      <td>...</td>\n      <td>...</td>\n      <td>...</td>\n      <td>...</td>\n      <td>...</td>\n      <td>...</td>\n      <td>...</td>\n      <td>...</td>\n      <td>...</td>\n      <td>...</td>\n    </tr>\n    <tr>\n      <th>458</th>\n      <td>9112594</td>\n      <td>13.000</td>\n      <td>25.13</td>\n      <td>82.61</td>\n      <td>520.2</td>\n      <td>0.08369</td>\n      <td>0.05073</td>\n      <td>0.012060</td>\n      <td>0.017620</td>\n      <td>0.1667</td>\n      <td>...</td>\n      <td>14.340</td>\n      <td>31.88</td>\n      <td>91.06</td>\n      <td>628.5</td>\n      <td>0.12180</td>\n      <td>0.10930</td>\n      <td>0.04462</td>\n      <td>0.05921</td>\n      <td>0.2306</td>\n      <td>0.06291</td>\n    </tr>\n    <tr>\n      <th>110</th>\n      <td>864033</td>\n      <td>9.777</td>\n      <td>16.99</td>\n      <td>62.50</td>\n      <td>290.2</td>\n      <td>0.10370</td>\n      <td>0.08404</td>\n      <td>0.043340</td>\n      <td>0.017780</td>\n      <td>0.1584</td>\n      <td>...</td>\n      <td>11.050</td>\n      <td>21.47</td>\n      <td>71.68</td>\n      <td>367.0</td>\n      <td>0.14670</td>\n      <td>0.17650</td>\n      <td>0.13000</td>\n      <td>0.05334</td>\n      <td>0.2533</td>\n      <td>0.08468</td>\n    </tr>\n    <tr>\n      <th>546</th>\n      <td>922577</td>\n      <td>10.320</td>\n      <td>16.35</td>\n      <td>65.31</td>\n      <td>324.9</td>\n      <td>0.09434</td>\n      <td>0.04994</td>\n      <td>0.010120</td>\n      <td>0.005495</td>\n      <td>0.1885</td>\n      <td>...</td>\n      <td>11.250</td>\n      <td>21.77</td>\n      <td>71.12</td>\n      <td>384.9</td>\n      <td>0.12850</td>\n      <td>0.08842</td>\n      <td>0.04384</td>\n      <td>0.02381</td>\n      <td>0.2681</td>\n      <td>0.07399</td>\n    </tr>\n    <tr>\n      <th>61</th>\n      <td>858981</td>\n      <td>8.598</td>\n      <td>20.98</td>\n      <td>54.66</td>\n      <td>221.8</td>\n      <td>0.12430</td>\n      <td>0.08963</td>\n      <td>0.030000</td>\n      <td>0.009259</td>\n      <td>0.1828</td>\n      <td>...</td>\n      <td>9.565</td>\n      <td>27.04</td>\n      <td>62.06</td>\n      <td>273.9</td>\n      <td>0.16390</td>\n      <td>0.16980</td>\n      <td>0.09001</td>\n      <td>0.02778</td>\n      <td>0.2972</td>\n      <td>0.07712</td>\n    </tr>\n    <tr>\n      <th>505</th>\n      <td>915276</td>\n      <td>9.676</td>\n      <td>13.14</td>\n      <td>64.12</td>\n      <td>272.5</td>\n      <td>0.12550</td>\n      <td>0.22040</td>\n      <td>0.118800</td>\n      <td>0.070380</td>\n      <td>0.2057</td>\n      <td>...</td>\n      <td>10.600</td>\n      <td>18.04</td>\n      <td>69.47</td>\n      <td>328.1</td>\n      <td>0.20060</td>\n      <td>0.36630</td>\n      <td>0.29130</td>\n      <td>0.10750</td>\n      <td>0.2848</td>\n      <td>0.13640</td>\n    </tr>\n  </tbody>\n</table>\n<p>455 rows × 31 columns</p>\n</div>"
          },
          "metadata": {}
        }
      ]
    },
    {
      "cell_type": "code",
      "source": [
        "y_test"
      ],
      "metadata": {
        "execution": {
          "iopub.status.busy": "2024-03-09T19:25:01.431285Z",
          "iopub.execute_input": "2024-03-09T19:25:01.431703Z",
          "iopub.status.idle": "2024-03-09T19:25:01.44086Z",
          "shell.execute_reply.started": "2024-03-09T19:25:01.431667Z",
          "shell.execute_reply": "2024-03-09T19:25:01.439469Z"
        },
        "trusted": true,
        "id": "vJrDIzF8yeyY",
        "outputId": "54a59127-5230-44cd-b54a-40d146ea9690"
      },
      "execution_count": null,
      "outputs": [
        {
          "execution_count": 13,
          "output_type": "execute_result",
          "data": {
            "text/plain": "167    M\n388    B\n254    M\n560    B\n502    B\n      ..\n543    B\n494    B\n200    B\n63     B\n556    B\nName: diagnosis, Length: 114, dtype: object"
          },
          "metadata": {}
        }
      ]
    },
    {
      "cell_type": "markdown",
      "source": [
        "## Model Selection"
      ],
      "metadata": {
        "id": "0WKTP2LfyeyY"
      }
    },
    {
      "cell_type": "code",
      "source": [
        "from sklearn.linear_model import LogisticRegression\n",
        "from sklearn.neighbors import KNeighborsClassifier\n",
        "from sklearn.ensemble import RandomForestClassifier\n",
        "\n",
        "models = {\"Logistic Regression \": LogisticRegression(),\n",
        "         \"KNN\": KNeighborsClassifier(),\n",
        "         \"Random Forest\": RandomForestClassifier()}\n",
        "#Create a function to fit and score models\n",
        "def fit_and_score(models,x_train,x_test,y_train,y_test):\n",
        "    \"\"\"\n",
        "    Fits and Evaluate given machine learning models.\n",
        "    models:a dict of different Scikit-Learn Machine Learning models\n",
        "    x_train: training data (no labels)\n",
        "    x_test: testing data(no labels)\n",
        "    y_train: trainig labels\n",
        "    y_test: test labels\n",
        "    \"\"\"\n",
        "    np.random.seed(42)\n",
        "    #Make a dictionary to keep model score\n",
        "    model_scores = {}\n",
        "    for name,model in models.items():\n",
        "        model.fit(x_train,y_train)\n",
        "        model_scores[name] = model.score(x_test,y_test)\n",
        "    return model_scores\n"
      ],
      "metadata": {
        "execution": {
          "iopub.status.busy": "2024-03-09T19:25:01.442686Z",
          "iopub.execute_input": "2024-03-09T19:25:01.444038Z",
          "iopub.status.idle": "2024-03-09T19:25:01.738425Z",
          "shell.execute_reply.started": "2024-03-09T19:25:01.443996Z",
          "shell.execute_reply": "2024-03-09T19:25:01.73724Z"
        },
        "trusted": true,
        "id": "cFuXw4w6yeyY"
      },
      "execution_count": null,
      "outputs": []
    },
    {
      "cell_type": "code",
      "source": [
        "model_scores = fit_and_score(models = models,\n",
        "                             x_train = x_train,\n",
        "                             x_test = x_test,\n",
        "                             y_train = y_train,\n",
        "                             y_test = y_test)\n",
        "model_scores"
      ],
      "metadata": {
        "execution": {
          "iopub.status.busy": "2024-03-09T19:25:01.739759Z",
          "iopub.execute_input": "2024-03-09T19:25:01.740124Z",
          "iopub.status.idle": "2024-03-09T19:25:02.301785Z",
          "shell.execute_reply.started": "2024-03-09T19:25:01.740094Z",
          "shell.execute_reply": "2024-03-09T19:25:02.300411Z"
        },
        "trusted": true,
        "id": "jPFHDXn8yeyY",
        "outputId": "1fb08938-bb5b-4fa6-ee93-01c914918e25"
      },
      "execution_count": null,
      "outputs": [
        {
          "execution_count": 15,
          "output_type": "execute_result",
          "data": {
            "text/plain": "{'Logistic Regression ': 0.7280701754385965,\n 'KNN': 0.7631578947368421,\n 'Random Forest': 0.9649122807017544}"
          },
          "metadata": {}
        }
      ]
    },
    {
      "cell_type": "markdown",
      "source": [
        "## Hyperparameter tuning"
      ],
      "metadata": {
        "id": "g2V5CgXMyeyY"
      }
    },
    {
      "cell_type": "code",
      "source": [
        "#Model Evaluations\n",
        "from sklearn.model_selection import train_test_split,cross_val_score\n",
        "from sklearn.model_selection import RandomizedSearchCV,GridSearchCV\n",
        "from sklearn.metrics import confusion_matrix,classification_report\n",
        "from sklearn.metrics import precision_score,recall_score,f1_score\n",
        "from sklearn.metrics import RocCurveDisplay"
      ],
      "metadata": {
        "execution": {
          "iopub.status.busy": "2024-03-09T19:26:18.47166Z",
          "iopub.execute_input": "2024-03-09T19:26:18.472102Z",
          "iopub.status.idle": "2024-03-09T19:26:18.480491Z",
          "shell.execute_reply.started": "2024-03-09T19:26:18.472071Z",
          "shell.execute_reply": "2024-03-09T19:26:18.47821Z"
        },
        "trusted": true,
        "id": "fOfJpXQKyeyY"
      },
      "execution_count": null,
      "outputs": []
    },
    {
      "cell_type": "code",
      "source": [
        "##Hyperparameter tuning using RandomizedSearchCV\n",
        "log_rs_grid = {\"C\":np.logspace(-4,4,20),\n",
        "                                \"solver\":['liblinear']}\n",
        "rf_grid = {\"n_estimators\":np.arange(10,1000,50),\n",
        "          \"max_depth\":[None,3,5,10],\n",
        "          'min_samples_split':np.arange(2,20,2),\n",
        "          'min_samples_leaf':np.arange(1,20,2)}"
      ],
      "metadata": {
        "execution": {
          "iopub.status.busy": "2024-03-09T19:25:02.303244Z",
          "iopub.execute_input": "2024-03-09T19:25:02.303698Z",
          "iopub.status.idle": "2024-03-09T19:25:02.313259Z",
          "shell.execute_reply.started": "2024-03-09T19:25:02.303664Z",
          "shell.execute_reply": "2024-03-09T19:25:02.311897Z"
        },
        "trusted": true,
        "id": "n7KdR-NhyeyY"
      },
      "execution_count": null,
      "outputs": []
    },
    {
      "cell_type": "code",
      "source": [
        "#Tune Logistic Regression\n",
        "np.random.seed(42)\n",
        "\n",
        "\n",
        "#setup random\n",
        "rs_log_reg = RandomizedSearchCV(LogisticRegression(),\n",
        "                               param_distributions = log_rs_grid,\n",
        "                               cv = 5,\n",
        "                               n_iter = 20,\n",
        "                               verbose = True)\n",
        "rs_log_reg.fit(x_train,y_train)"
      ],
      "metadata": {
        "execution": {
          "iopub.status.busy": "2024-03-09T19:27:26.252047Z",
          "iopub.execute_input": "2024-03-09T19:27:26.253473Z",
          "iopub.status.idle": "2024-03-09T19:27:27.600206Z",
          "shell.execute_reply.started": "2024-03-09T19:27:26.25343Z",
          "shell.execute_reply": "2024-03-09T19:27:27.599246Z"
        },
        "trusted": true,
        "id": "8Abn1K0qyeyY",
        "outputId": "2eb650c5-06e3-4620-c921-652765c26cec"
      },
      "execution_count": null,
      "outputs": [
        {
          "name": "stdout",
          "text": "Fitting 5 folds for each of 20 candidates, totalling 100 fits\n",
          "output_type": "stream"
        },
        {
          "execution_count": 24,
          "output_type": "execute_result",
          "data": {
            "text/plain": "RandomizedSearchCV(cv=5, estimator=LogisticRegression(), n_iter=20,\n                   param_distributions={'C': array([1.00000000e-04, 2.63665090e-04, 6.95192796e-04, 1.83298071e-03,\n       4.83293024e-03, 1.27427499e-02, 3.35981829e-02, 8.85866790e-02,\n       2.33572147e-01, 6.15848211e-01, 1.62377674e+00, 4.28133240e+00,\n       1.12883789e+01, 2.97635144e+01, 7.84759970e+01, 2.06913808e+02,\n       5.45559478e+02, 1.43844989e+03, 3.79269019e+03, 1.00000000e+04]),\n                                        'solver': ['liblinear']},\n                   verbose=True)",
            "text/html": "<style>#sk-container-id-1 {color: black;background-color: white;}#sk-container-id-1 pre{padding: 0;}#sk-container-id-1 div.sk-toggleable {background-color: white;}#sk-container-id-1 label.sk-toggleable__label {cursor: pointer;display: block;width: 100%;margin-bottom: 0;padding: 0.3em;box-sizing: border-box;text-align: center;}#sk-container-id-1 label.sk-toggleable__label-arrow:before {content: \"▸\";float: left;margin-right: 0.25em;color: #696969;}#sk-container-id-1 label.sk-toggleable__label-arrow:hover:before {color: black;}#sk-container-id-1 div.sk-estimator:hover label.sk-toggleable__label-arrow:before {color: black;}#sk-container-id-1 div.sk-toggleable__content {max-height: 0;max-width: 0;overflow: hidden;text-align: left;background-color: #f0f8ff;}#sk-container-id-1 div.sk-toggleable__content pre {margin: 0.2em;color: black;border-radius: 0.25em;background-color: #f0f8ff;}#sk-container-id-1 input.sk-toggleable__control:checked~div.sk-toggleable__content {max-height: 200px;max-width: 100%;overflow: auto;}#sk-container-id-1 input.sk-toggleable__control:checked~label.sk-toggleable__label-arrow:before {content: \"▾\";}#sk-container-id-1 div.sk-estimator input.sk-toggleable__control:checked~label.sk-toggleable__label {background-color: #d4ebff;}#sk-container-id-1 div.sk-label input.sk-toggleable__control:checked~label.sk-toggleable__label {background-color: #d4ebff;}#sk-container-id-1 input.sk-hidden--visually {border: 0;clip: rect(1px 1px 1px 1px);clip: rect(1px, 1px, 1px, 1px);height: 1px;margin: -1px;overflow: hidden;padding: 0;position: absolute;width: 1px;}#sk-container-id-1 div.sk-estimator {font-family: monospace;background-color: #f0f8ff;border: 1px dotted black;border-radius: 0.25em;box-sizing: border-box;margin-bottom: 0.5em;}#sk-container-id-1 div.sk-estimator:hover {background-color: #d4ebff;}#sk-container-id-1 div.sk-parallel-item::after {content: \"\";width: 100%;border-bottom: 1px solid gray;flex-grow: 1;}#sk-container-id-1 div.sk-label:hover label.sk-toggleable__label {background-color: #d4ebff;}#sk-container-id-1 div.sk-serial::before {content: \"\";position: absolute;border-left: 1px solid gray;box-sizing: border-box;top: 0;bottom: 0;left: 50%;z-index: 0;}#sk-container-id-1 div.sk-serial {display: flex;flex-direction: column;align-items: center;background-color: white;padding-right: 0.2em;padding-left: 0.2em;position: relative;}#sk-container-id-1 div.sk-item {position: relative;z-index: 1;}#sk-container-id-1 div.sk-parallel {display: flex;align-items: stretch;justify-content: center;background-color: white;position: relative;}#sk-container-id-1 div.sk-item::before, #sk-container-id-1 div.sk-parallel-item::before {content: \"\";position: absolute;border-left: 1px solid gray;box-sizing: border-box;top: 0;bottom: 0;left: 50%;z-index: -1;}#sk-container-id-1 div.sk-parallel-item {display: flex;flex-direction: column;z-index: 1;position: relative;background-color: white;}#sk-container-id-1 div.sk-parallel-item:first-child::after {align-self: flex-end;width: 50%;}#sk-container-id-1 div.sk-parallel-item:last-child::after {align-self: flex-start;width: 50%;}#sk-container-id-1 div.sk-parallel-item:only-child::after {width: 0;}#sk-container-id-1 div.sk-dashed-wrapped {border: 1px dashed gray;margin: 0 0.4em 0.5em 0.4em;box-sizing: border-box;padding-bottom: 0.4em;background-color: white;}#sk-container-id-1 div.sk-label label {font-family: monospace;font-weight: bold;display: inline-block;line-height: 1.2em;}#sk-container-id-1 div.sk-label-container {text-align: center;}#sk-container-id-1 div.sk-container {/* jupyter's `normalize.less` sets `[hidden] { display: none; }` but bootstrap.min.css set `[hidden] { display: none !important; }` so we also need the `!important` here to be able to override the default hidden behavior on the sphinx rendered scikit-learn.org. See: https://github.com/scikit-learn/scikit-learn/issues/21755 */display: inline-block !important;position: relative;}#sk-container-id-1 div.sk-text-repr-fallback {display: none;}</style><div id=\"sk-container-id-1\" class=\"sk-top-container\"><div class=\"sk-text-repr-fallback\"><pre>RandomizedSearchCV(cv=5, estimator=LogisticRegression(), n_iter=20,\n                   param_distributions={&#x27;C&#x27;: array([1.00000000e-04, 2.63665090e-04, 6.95192796e-04, 1.83298071e-03,\n       4.83293024e-03, 1.27427499e-02, 3.35981829e-02, 8.85866790e-02,\n       2.33572147e-01, 6.15848211e-01, 1.62377674e+00, 4.28133240e+00,\n       1.12883789e+01, 2.97635144e+01, 7.84759970e+01, 2.06913808e+02,\n       5.45559478e+02, 1.43844989e+03, 3.79269019e+03, 1.00000000e+04]),\n                                        &#x27;solver&#x27;: [&#x27;liblinear&#x27;]},\n                   verbose=True)</pre><b>In a Jupyter environment, please rerun this cell to show the HTML representation or trust the notebook. <br />On GitHub, the HTML representation is unable to render, please try loading this page with nbviewer.org.</b></div><div class=\"sk-container\" hidden><div class=\"sk-item sk-dashed-wrapped\"><div class=\"sk-label-container\"><div class=\"sk-label sk-toggleable\"><input class=\"sk-toggleable__control sk-hidden--visually\" id=\"sk-estimator-id-1\" type=\"checkbox\" ><label for=\"sk-estimator-id-1\" class=\"sk-toggleable__label sk-toggleable__label-arrow\">RandomizedSearchCV</label><div class=\"sk-toggleable__content\"><pre>RandomizedSearchCV(cv=5, estimator=LogisticRegression(), n_iter=20,\n                   param_distributions={&#x27;C&#x27;: array([1.00000000e-04, 2.63665090e-04, 6.95192796e-04, 1.83298071e-03,\n       4.83293024e-03, 1.27427499e-02, 3.35981829e-02, 8.85866790e-02,\n       2.33572147e-01, 6.15848211e-01, 1.62377674e+00, 4.28133240e+00,\n       1.12883789e+01, 2.97635144e+01, 7.84759970e+01, 2.06913808e+02,\n       5.45559478e+02, 1.43844989e+03, 3.79269019e+03, 1.00000000e+04]),\n                                        &#x27;solver&#x27;: [&#x27;liblinear&#x27;]},\n                   verbose=True)</pre></div></div></div><div class=\"sk-parallel\"><div class=\"sk-parallel-item\"><div class=\"sk-item\"><div class=\"sk-label-container\"><div class=\"sk-label sk-toggleable\"><input class=\"sk-toggleable__control sk-hidden--visually\" id=\"sk-estimator-id-2\" type=\"checkbox\" ><label for=\"sk-estimator-id-2\" class=\"sk-toggleable__label sk-toggleable__label-arrow\">estimator: LogisticRegression</label><div class=\"sk-toggleable__content\"><pre>LogisticRegression()</pre></div></div></div><div class=\"sk-serial\"><div class=\"sk-item\"><div class=\"sk-estimator sk-toggleable\"><input class=\"sk-toggleable__control sk-hidden--visually\" id=\"sk-estimator-id-3\" type=\"checkbox\" ><label for=\"sk-estimator-id-3\" class=\"sk-toggleable__label sk-toggleable__label-arrow\">LogisticRegression</label><div class=\"sk-toggleable__content\"><pre>LogisticRegression()</pre></div></div></div></div></div></div></div></div></div></div>"
          },
          "metadata": {}
        }
      ]
    },
    {
      "cell_type": "raw",
      "source": [
        "rs_log_reg.score(x_test,y_test)"
      ],
      "metadata": {
        "execution": {
          "iopub.status.busy": "2024-03-09T19:27:53.443922Z",
          "iopub.execute_input": "2024-03-09T19:27:53.444532Z",
          "iopub.status.idle": "2024-03-09T19:27:53.45834Z",
          "shell.execute_reply.started": "2024-03-09T19:27:53.444485Z",
          "shell.execute_reply": "2024-03-09T19:27:53.456933Z"
        },
        "id": "zkNz6f0cyeyZ"
      }
    },
    {
      "cell_type": "code",
      "source": [
        "rs_log_reg.best_params_"
      ],
      "metadata": {
        "execution": {
          "iopub.status.busy": "2024-03-09T19:28:49.307433Z",
          "iopub.execute_input": "2024-03-09T19:28:49.307922Z",
          "iopub.status.idle": "2024-03-09T19:28:49.316517Z",
          "shell.execute_reply.started": "2024-03-09T19:28:49.307885Z",
          "shell.execute_reply": "2024-03-09T19:28:49.31508Z"
        },
        "trusted": true,
        "id": "FkE8ADZryeyZ",
        "outputId": "f516ed0a-a93d-45d6-a66e-334caa7404be"
      },
      "execution_count": null,
      "outputs": [
        {
          "execution_count": 26,
          "output_type": "execute_result",
          "data": {
            "text/plain": "{'solver': 'liblinear', 'C': 0.012742749857031334}"
          },
          "metadata": {}
        }
      ]
    },
    {
      "cell_type": "code",
      "source": [
        "#Tune Logistic Regression\n",
        "np.random.seed(42)\n",
        "\n",
        "#setup random\n",
        "rs_rf = RandomizedSearchCV(RandomForestClassifier(),\n",
        "                               param_distributions = rf_grid,\n",
        "                               cv = 5,\n",
        "                               n_iter = 20,\n",
        "                               verbose = True)\n",
        "rs_rf.fit(x_train,y_train)"
      ],
      "metadata": {
        "execution": {
          "iopub.status.busy": "2024-03-09T19:29:13.478417Z",
          "iopub.execute_input": "2024-03-09T19:29:13.478824Z",
          "iopub.status.idle": "2024-03-09T19:31:31.447949Z",
          "shell.execute_reply.started": "2024-03-09T19:29:13.478793Z",
          "shell.execute_reply": "2024-03-09T19:31:31.446452Z"
        },
        "trusted": true,
        "id": "gTOakSo0yeyZ",
        "outputId": "d8e7d735-da71-4fa3-8e65-f4b8c552ed9f"
      },
      "execution_count": null,
      "outputs": [
        {
          "name": "stdout",
          "text": "Fitting 5 folds for each of 20 candidates, totalling 100 fits\n",
          "output_type": "stream"
        },
        {
          "execution_count": 27,
          "output_type": "execute_result",
          "data": {
            "text/plain": "RandomizedSearchCV(cv=5, estimator=RandomForestClassifier(), n_iter=20,\n                   param_distributions={'max_depth': [None, 3, 5, 10],\n                                        'min_samples_leaf': array([ 1,  3,  5,  7,  9, 11, 13, 15, 17, 19]),\n                                        'min_samples_split': array([ 2,  4,  6,  8, 10, 12, 14, 16, 18]),\n                                        'n_estimators': array([ 10,  60, 110, 160, 210, 260, 310, 360, 410, 460, 510, 560, 610,\n       660, 710, 760, 810, 860, 910, 960])},\n                   verbose=True)",
            "text/html": "<style>#sk-container-id-2 {color: black;background-color: white;}#sk-container-id-2 pre{padding: 0;}#sk-container-id-2 div.sk-toggleable {background-color: white;}#sk-container-id-2 label.sk-toggleable__label {cursor: pointer;display: block;width: 100%;margin-bottom: 0;padding: 0.3em;box-sizing: border-box;text-align: center;}#sk-container-id-2 label.sk-toggleable__label-arrow:before {content: \"▸\";float: left;margin-right: 0.25em;color: #696969;}#sk-container-id-2 label.sk-toggleable__label-arrow:hover:before {color: black;}#sk-container-id-2 div.sk-estimator:hover label.sk-toggleable__label-arrow:before {color: black;}#sk-container-id-2 div.sk-toggleable__content {max-height: 0;max-width: 0;overflow: hidden;text-align: left;background-color: #f0f8ff;}#sk-container-id-2 div.sk-toggleable__content pre {margin: 0.2em;color: black;border-radius: 0.25em;background-color: #f0f8ff;}#sk-container-id-2 input.sk-toggleable__control:checked~div.sk-toggleable__content {max-height: 200px;max-width: 100%;overflow: auto;}#sk-container-id-2 input.sk-toggleable__control:checked~label.sk-toggleable__label-arrow:before {content: \"▾\";}#sk-container-id-2 div.sk-estimator input.sk-toggleable__control:checked~label.sk-toggleable__label {background-color: #d4ebff;}#sk-container-id-2 div.sk-label input.sk-toggleable__control:checked~label.sk-toggleable__label {background-color: #d4ebff;}#sk-container-id-2 input.sk-hidden--visually {border: 0;clip: rect(1px 1px 1px 1px);clip: rect(1px, 1px, 1px, 1px);height: 1px;margin: -1px;overflow: hidden;padding: 0;position: absolute;width: 1px;}#sk-container-id-2 div.sk-estimator {font-family: monospace;background-color: #f0f8ff;border: 1px dotted black;border-radius: 0.25em;box-sizing: border-box;margin-bottom: 0.5em;}#sk-container-id-2 div.sk-estimator:hover {background-color: #d4ebff;}#sk-container-id-2 div.sk-parallel-item::after {content: \"\";width: 100%;border-bottom: 1px solid gray;flex-grow: 1;}#sk-container-id-2 div.sk-label:hover label.sk-toggleable__label {background-color: #d4ebff;}#sk-container-id-2 div.sk-serial::before {content: \"\";position: absolute;border-left: 1px solid gray;box-sizing: border-box;top: 0;bottom: 0;left: 50%;z-index: 0;}#sk-container-id-2 div.sk-serial {display: flex;flex-direction: column;align-items: center;background-color: white;padding-right: 0.2em;padding-left: 0.2em;position: relative;}#sk-container-id-2 div.sk-item {position: relative;z-index: 1;}#sk-container-id-2 div.sk-parallel {display: flex;align-items: stretch;justify-content: center;background-color: white;position: relative;}#sk-container-id-2 div.sk-item::before, #sk-container-id-2 div.sk-parallel-item::before {content: \"\";position: absolute;border-left: 1px solid gray;box-sizing: border-box;top: 0;bottom: 0;left: 50%;z-index: -1;}#sk-container-id-2 div.sk-parallel-item {display: flex;flex-direction: column;z-index: 1;position: relative;background-color: white;}#sk-container-id-2 div.sk-parallel-item:first-child::after {align-self: flex-end;width: 50%;}#sk-container-id-2 div.sk-parallel-item:last-child::after {align-self: flex-start;width: 50%;}#sk-container-id-2 div.sk-parallel-item:only-child::after {width: 0;}#sk-container-id-2 div.sk-dashed-wrapped {border: 1px dashed gray;margin: 0 0.4em 0.5em 0.4em;box-sizing: border-box;padding-bottom: 0.4em;background-color: white;}#sk-container-id-2 div.sk-label label {font-family: monospace;font-weight: bold;display: inline-block;line-height: 1.2em;}#sk-container-id-2 div.sk-label-container {text-align: center;}#sk-container-id-2 div.sk-container {/* jupyter's `normalize.less` sets `[hidden] { display: none; }` but bootstrap.min.css set `[hidden] { display: none !important; }` so we also need the `!important` here to be able to override the default hidden behavior on the sphinx rendered scikit-learn.org. See: https://github.com/scikit-learn/scikit-learn/issues/21755 */display: inline-block !important;position: relative;}#sk-container-id-2 div.sk-text-repr-fallback {display: none;}</style><div id=\"sk-container-id-2\" class=\"sk-top-container\"><div class=\"sk-text-repr-fallback\"><pre>RandomizedSearchCV(cv=5, estimator=RandomForestClassifier(), n_iter=20,\n                   param_distributions={&#x27;max_depth&#x27;: [None, 3, 5, 10],\n                                        &#x27;min_samples_leaf&#x27;: array([ 1,  3,  5,  7,  9, 11, 13, 15, 17, 19]),\n                                        &#x27;min_samples_split&#x27;: array([ 2,  4,  6,  8, 10, 12, 14, 16, 18]),\n                                        &#x27;n_estimators&#x27;: array([ 10,  60, 110, 160, 210, 260, 310, 360, 410, 460, 510, 560, 610,\n       660, 710, 760, 810, 860, 910, 960])},\n                   verbose=True)</pre><b>In a Jupyter environment, please rerun this cell to show the HTML representation or trust the notebook. <br />On GitHub, the HTML representation is unable to render, please try loading this page with nbviewer.org.</b></div><div class=\"sk-container\" hidden><div class=\"sk-item sk-dashed-wrapped\"><div class=\"sk-label-container\"><div class=\"sk-label sk-toggleable\"><input class=\"sk-toggleable__control sk-hidden--visually\" id=\"sk-estimator-id-4\" type=\"checkbox\" ><label for=\"sk-estimator-id-4\" class=\"sk-toggleable__label sk-toggleable__label-arrow\">RandomizedSearchCV</label><div class=\"sk-toggleable__content\"><pre>RandomizedSearchCV(cv=5, estimator=RandomForestClassifier(), n_iter=20,\n                   param_distributions={&#x27;max_depth&#x27;: [None, 3, 5, 10],\n                                        &#x27;min_samples_leaf&#x27;: array([ 1,  3,  5,  7,  9, 11, 13, 15, 17, 19]),\n                                        &#x27;min_samples_split&#x27;: array([ 2,  4,  6,  8, 10, 12, 14, 16, 18]),\n                                        &#x27;n_estimators&#x27;: array([ 10,  60, 110, 160, 210, 260, 310, 360, 410, 460, 510, 560, 610,\n       660, 710, 760, 810, 860, 910, 960])},\n                   verbose=True)</pre></div></div></div><div class=\"sk-parallel\"><div class=\"sk-parallel-item\"><div class=\"sk-item\"><div class=\"sk-label-container\"><div class=\"sk-label sk-toggleable\"><input class=\"sk-toggleable__control sk-hidden--visually\" id=\"sk-estimator-id-5\" type=\"checkbox\" ><label for=\"sk-estimator-id-5\" class=\"sk-toggleable__label sk-toggleable__label-arrow\">estimator: RandomForestClassifier</label><div class=\"sk-toggleable__content\"><pre>RandomForestClassifier()</pre></div></div></div><div class=\"sk-serial\"><div class=\"sk-item\"><div class=\"sk-estimator sk-toggleable\"><input class=\"sk-toggleable__control sk-hidden--visually\" id=\"sk-estimator-id-6\" type=\"checkbox\" ><label for=\"sk-estimator-id-6\" class=\"sk-toggleable__label sk-toggleable__label-arrow\">RandomForestClassifier</label><div class=\"sk-toggleable__content\"><pre>RandomForestClassifier()</pre></div></div></div></div></div></div></div></div></div></div>"
          },
          "metadata": {}
        }
      ]
    },
    {
      "cell_type": "code",
      "source": [
        "rs_rf.score(x_test,y_test)"
      ],
      "metadata": {
        "execution": {
          "iopub.status.busy": "2024-03-09T19:32:07.257113Z",
          "iopub.execute_input": "2024-03-09T19:32:07.257585Z",
          "iopub.status.idle": "2024-03-09T19:32:07.327834Z",
          "shell.execute_reply.started": "2024-03-09T19:32:07.257551Z",
          "shell.execute_reply": "2024-03-09T19:32:07.326392Z"
        },
        "trusted": true,
        "id": "7EbyyqkcyeyZ",
        "outputId": "45da30ad-77a5-4e07-f364-a88933d038e6"
      },
      "execution_count": null,
      "outputs": [
        {
          "execution_count": 28,
          "output_type": "execute_result",
          "data": {
            "text/plain": "0.9649122807017544"
          },
          "metadata": {}
        }
      ]
    },
    {
      "cell_type": "code",
      "source": [
        "y_preds = rs_rf.predict(x_test)"
      ],
      "metadata": {
        "execution": {
          "iopub.status.busy": "2024-03-09T19:34:49.423873Z",
          "iopub.execute_input": "2024-03-09T19:34:49.424296Z",
          "iopub.status.idle": "2024-03-09T19:34:49.489506Z",
          "shell.execute_reply.started": "2024-03-09T19:34:49.424262Z",
          "shell.execute_reply": "2024-03-09T19:34:49.488035Z"
        },
        "trusted": true,
        "id": "YgPfIbnFyeyZ"
      },
      "execution_count": null,
      "outputs": []
    },
    {
      "cell_type": "code",
      "source": [
        "y_preds"
      ],
      "metadata": {
        "execution": {
          "iopub.status.busy": "2024-03-09T19:35:00.274025Z",
          "iopub.execute_input": "2024-03-09T19:35:00.274441Z",
          "iopub.status.idle": "2024-03-09T19:35:00.282998Z",
          "shell.execute_reply.started": "2024-03-09T19:35:00.274407Z",
          "shell.execute_reply": "2024-03-09T19:35:00.281241Z"
        },
        "trusted": true,
        "id": "EqdoK_rxyeyZ",
        "outputId": "49dd3391-e2df-4bdb-a6d6-3ec3980b2038"
      },
      "execution_count": null,
      "outputs": [
        {
          "execution_count": 35,
          "output_type": "execute_result",
          "data": {
            "text/plain": "array(['M', 'B', 'M', 'B', 'B', 'M', 'M', 'M', 'B', 'B', 'B', 'B', 'M',\n       'B', 'B', 'B', 'B', 'B', 'M', 'M', 'B', 'B', 'B', 'B', 'B', 'B',\n       'B', 'B', 'B', 'B', 'M', 'M', 'B', 'B', 'M', 'B', 'M', 'B', 'B',\n       'B', 'B', 'M', 'B', 'B', 'B', 'B', 'M', 'B', 'B', 'M', 'B', 'B',\n       'B', 'M', 'B', 'B', 'B', 'B', 'M', 'M', 'B', 'B', 'B', 'B', 'B',\n       'B', 'B', 'B', 'B', 'B', 'B', 'B', 'B', 'B', 'B', 'B', 'B', 'B',\n       'B', 'B', 'M', 'B', 'B', 'B', 'B', 'M', 'B', 'B', 'M', 'B', 'B',\n       'B', 'B', 'M', 'M', 'B', 'B', 'B', 'B', 'B', 'B', 'B', 'B', 'M',\n       'M', 'B', 'M', 'M', 'B', 'B', 'B', 'B', 'B', 'B'], dtype=object)"
          },
          "metadata": {}
        }
      ]
    },
    {
      "cell_type": "code",
      "source": [
        "y_test"
      ],
      "metadata": {
        "execution": {
          "iopub.status.busy": "2024-03-09T19:35:07.79898Z",
          "iopub.execute_input": "2024-03-09T19:35:07.799404Z",
          "iopub.status.idle": "2024-03-09T19:35:07.808964Z",
          "shell.execute_reply.started": "2024-03-09T19:35:07.799372Z",
          "shell.execute_reply": "2024-03-09T19:35:07.807611Z"
        },
        "trusted": true,
        "id": "4vcdznUqyeyZ",
        "outputId": "f292330d-cde3-4979-bf18-32d0858d3ec0"
      },
      "execution_count": null,
      "outputs": [
        {
          "execution_count": 36,
          "output_type": "execute_result",
          "data": {
            "text/plain": "167    M\n388    B\n254    M\n560    B\n502    B\n      ..\n543    B\n494    B\n200    B\n63     B\n556    B\nName: diagnosis, Length: 114, dtype: object"
          },
          "metadata": {}
        }
      ]
    },
    {
      "cell_type": "code",
      "source": [
        "RocCurveDisplay.from_estimator(rs_rf,x_test,y_test)"
      ],
      "metadata": {
        "execution": {
          "iopub.status.busy": "2024-03-09T19:35:53.738704Z",
          "iopub.execute_input": "2024-03-09T19:35:53.739166Z",
          "iopub.status.idle": "2024-03-09T19:35:54.215493Z",
          "shell.execute_reply.started": "2024-03-09T19:35:53.739134Z",
          "shell.execute_reply": "2024-03-09T19:35:54.214121Z"
        },
        "trusted": true,
        "id": "KIzDG1V-yeyZ",
        "outputId": "a25f75f3-530d-4e05-818c-2276c072c5d3"
      },
      "execution_count": null,
      "outputs": [
        {
          "execution_count": 37,
          "output_type": "execute_result",
          "data": {
            "text/plain": "<sklearn.metrics._plot.roc_curve.RocCurveDisplay at 0x7cc2781cf940>"
          },
          "metadata": {}
        },
        {
          "output_type": "display_data",
          "data": {
            "text/plain": "<Figure size 640x480 with 1 Axes>",
            "image/png": "[encoded data removed]"
          },
          "metadata": {}
        }
      ]
    },
    {
      "cell_type": "code",
      "source": [
        "print(confusion_matrix(y_test,y_preds))"
      ],
      "metadata": {
        "execution": {
          "iopub.status.busy": "2024-03-09T19:36:22.894367Z",
          "iopub.execute_input": "2024-03-09T19:36:22.894799Z",
          "iopub.status.idle": "2024-03-09T19:36:22.90387Z",
          "shell.execute_reply.started": "2024-03-09T19:36:22.894766Z",
          "shell.execute_reply": "2024-03-09T19:36:22.902412Z"
        },
        "trusted": true,
        "id": "rvUEq-WlyeyZ",
        "outputId": "c08d67e5-2944-4f9e-e2f1-b88782ffc534"
      },
      "execution_count": null,
      "outputs": [
        {
          "name": "stdout",
          "text": "[[83  0]\n [ 4 27]]\n",
          "output_type": "stream"
        }
      ]
    },
    {
      "cell_type": "code",
      "source": [
        "print(classification_report(y_test,y_preds))"
      ],
      "metadata": {
        "execution": {
          "iopub.status.busy": "2024-03-09T19:36:54.067066Z",
          "iopub.execute_input": "2024-03-09T19:36:54.067517Z",
          "iopub.status.idle": "2024-03-09T19:36:54.089655Z",
          "shell.execute_reply.started": "2024-03-09T19:36:54.06748Z",
          "shell.execute_reply": "2024-03-09T19:36:54.088022Z"
        },
        "trusted": true,
        "id": "5ToJO-0ryeyZ",
        "outputId": "e6960f7a-97a1-4e07-961d-d351f621e4a7"
      },
      "execution_count": null,
      "outputs": [
        {
          "name": "stdout",
          "text": "              precision    recall  f1-score   support\n\n           B       0.95      1.00      0.98        83\n           M       1.00      0.87      0.93        31\n\n    accuracy                           0.96       114\n   macro avg       0.98      0.94      0.95       114\nweighted avg       0.97      0.96      0.96       114\n\n",
          "output_type": "stream"
        }
      ]
    },
    {
      "cell_type": "markdown",
      "source": [
        "## Feature Importance"
      ],
      "metadata": {
        "execution": {
          "iopub.status.busy": "2024-03-09T19:37:03.909389Z",
          "iopub.execute_input": "2024-03-09T19:37:03.909784Z",
          "iopub.status.idle": "2024-03-09T19:37:03.948402Z",
          "shell.execute_reply.started": "2024-03-09T19:37:03.909755Z",
          "shell.execute_reply": "2024-03-09T19:37:03.946047Z"
        },
        "id": "fPcPKrGZyeyZ"
      }
    },
    {
      "cell_type": "code",
      "source": [
        "rs_rf.best_params_"
      ],
      "metadata": {
        "execution": {
          "iopub.status.busy": "2024-03-09T19:39:20.968854Z",
          "iopub.execute_input": "2024-03-09T19:39:20.96934Z",
          "iopub.status.idle": "2024-03-09T19:39:20.977613Z",
          "shell.execute_reply.started": "2024-03-09T19:39:20.969281Z",
          "shell.execute_reply": "2024-03-09T19:39:20.97628Z"
        },
        "trusted": true,
        "id": "jwDTpVdPyeya",
        "outputId": "a7193882-98e5-4978-996d-31ad47734286"
      },
      "execution_count": null,
      "outputs": [
        {
          "execution_count": 41,
          "output_type": "execute_result",
          "data": {
            "text/plain": "{'n_estimators': 710,\n 'min_samples_split': 16,\n 'min_samples_leaf': 3,\n 'max_depth': 10}"
          },
          "metadata": {}
        }
      ]
    },
    {
      "cell_type": "code",
      "source": [
        "clf = RandomForestClassifier(n_estimators = 710,\n",
        " min_samples_split= 16,\n",
        " min_samples_leaf = 3,\n",
        " max_depth= 10)"
      ],
      "metadata": {
        "execution": {
          "iopub.status.busy": "2024-03-09T19:40:35.615795Z",
          "iopub.execute_input": "2024-03-09T19:40:35.616431Z",
          "iopub.status.idle": "2024-03-09T19:40:35.623146Z",
          "shell.execute_reply.started": "2024-03-09T19:40:35.616371Z",
          "shell.execute_reply": "2024-03-09T19:40:35.621616Z"
        },
        "trusted": true,
        "id": "33sqKOfdyeya"
      },
      "execution_count": null,
      "outputs": []
    },
    {
      "cell_type": "code",
      "source": [
        "clf.fit(x_train,y_train)"
      ],
      "metadata": {
        "execution": {
          "iopub.status.busy": "2024-03-09T19:41:40.743209Z",
          "iopub.execute_input": "2024-03-09T19:41:40.743649Z",
          "iopub.status.idle": "2024-03-09T19:41:42.901092Z",
          "shell.execute_reply.started": "2024-03-09T19:41:40.743617Z",
          "shell.execute_reply": "2024-03-09T19:41:42.89973Z"
        },
        "trusted": true,
        "id": "PRgI8CxDyeya",
        "outputId": "ef39e9a4-11bd-4edc-df38-425b3ca6d29c"
      },
      "execution_count": null,
      "outputs": [
        {
          "execution_count": 44,
          "output_type": "execute_result",
          "data": {
            "text/plain": "RandomForestClassifier(max_depth=10, min_samples_leaf=3, min_samples_split=16,\n                       n_estimators=710)",
            "text/html": "<style>#sk-container-id-4 {color: black;background-color: white;}#sk-container-id-4 pre{padding: 0;}#sk-container-id-4 div.sk-toggleable {background-color: white;}#sk-container-id-4 label.sk-toggleable__label {cursor: pointer;display: block;width: 100%;margin-bottom: 0;padding: 0.3em;box-sizing: border-box;text-align: center;}#sk-container-id-4 label.sk-toggleable__label-arrow:before {content: \"▸\";float: left;margin-right: 0.25em;color: #696969;}#sk-container-id-4 label.sk-toggleable__label-arrow:hover:before {color: black;}#sk-container-id-4 div.sk-estimator:hover label.sk-toggleable__label-arrow:before {color: black;}#sk-container-id-4 div.sk-toggleable__content {max-height: 0;max-width: 0;overflow: hidden;text-align: left;background-color: #f0f8ff;}#sk-container-id-4 div.sk-toggleable__content pre {margin: 0.2em;color: black;border-radius: 0.25em;background-color: #f0f8ff;}#sk-container-id-4 input.sk-toggleable__control:checked~div.sk-toggleable__content {max-height: 200px;max-width: 100%;overflow: auto;}#sk-container-id-4 input.sk-toggleable__control:checked~label.sk-toggleable__label-arrow:before {content: \"▾\";}#sk-container-id-4 div.sk-estimator input.sk-toggleable__control:checked~label.sk-toggleable__label {background-color: #d4ebff;}#sk-container-id-4 div.sk-label input.sk-toggleable__control:checked~label.sk-toggleable__label {background-color: #d4ebff;}#sk-container-id-4 input.sk-hidden--visually {border: 0;clip: rect(1px 1px 1px 1px);clip: rect(1px, 1px, 1px, 1px);height: 1px;margin: -1px;overflow: hidden;padding: 0;position: absolute;width: 1px;}#sk-container-id-4 div.sk-estimator {font-family: monospace;background-color: #f0f8ff;border: 1px dotted black;border-radius: 0.25em;box-sizing: border-box;margin-bottom: 0.5em;}#sk-container-id-4 div.sk-estimator:hover {background-color: #d4ebff;}#sk-container-id-4 div.sk-parallel-item::after {content: \"\";width: 100%;border-bottom: 1px solid gray;flex-grow: 1;}#sk-container-id-4 div.sk-label:hover label.sk-toggleable__label {background-color: #d4ebff;}#sk-container-id-4 div.sk-serial::before {content: \"\";position: absolute;border-left: 1px solid gray;box-sizing: border-box;top: 0;bottom: 0;left: 50%;z-index: 0;}#sk-container-id-4 div.sk-serial {display: flex;flex-direction: column;align-items: center;background-color: white;padding-right: 0.2em;padding-left: 0.2em;position: relative;}#sk-container-id-4 div.sk-item {position: relative;z-index: 1;}#sk-container-id-4 div.sk-parallel {display: flex;align-items: stretch;justify-content: center;background-color: white;position: relative;}#sk-container-id-4 div.sk-item::before, #sk-container-id-4 div.sk-parallel-item::before {content: \"\";position: absolute;border-left: 1px solid gray;box-sizing: border-box;top: 0;bottom: 0;left: 50%;z-index: -1;}#sk-container-id-4 div.sk-parallel-item {display: flex;flex-direction: column;z-index: 1;position: relative;background-color: white;}#sk-container-id-4 div.sk-parallel-item:first-child::after {align-self: flex-end;width: 50%;}#sk-container-id-4 div.sk-parallel-item:last-child::after {align-self: flex-start;width: 50%;}#sk-container-id-4 div.sk-parallel-item:only-child::after {width: 0;}#sk-container-id-4 div.sk-dashed-wrapped {border: 1px dashed gray;margin: 0 0.4em 0.5em 0.4em;box-sizing: border-box;padding-bottom: 0.4em;background-color: white;}#sk-container-id-4 div.sk-label label {font-family: monospace;font-weight: bold;display: inline-block;line-height: 1.2em;}#sk-container-id-4 div.sk-label-container {text-align: center;}#sk-container-id-4 div.sk-container {/* jupyter's `normalize.less` sets `[hidden] { display: none; }` but bootstrap.min.css set `[hidden] { display: none !important; }` so we also need the `!important` here to be able to override the default hidden behavior on the sphinx rendered scikit-learn.org. See: https://github.com/scikit-learn/scikit-learn/issues/21755 */display: inline-block !important;position: relative;}#sk-container-id-4 div.sk-text-repr-fallback {display: none;}</style><div id=\"sk-container-id-4\" class=\"sk-top-container\"><div class=\"sk-text-repr-fallback\"><pre>RandomForestClassifier(max_depth=10, min_samples_leaf=3, min_samples_split=16,\n                       n_estimators=710)</pre><b>In a Jupyter environment, please rerun this cell to show the HTML representation or trust the notebook. <br />On GitHub, the HTML representation is unable to render, please try loading this page with nbviewer.org.</b></div><div class=\"sk-container\" hidden><div class=\"sk-item\"><div class=\"sk-estimator sk-toggleable\"><input class=\"sk-toggleable__control sk-hidden--visually\" id=\"sk-estimator-id-10\" type=\"checkbox\" checked><label for=\"sk-estimator-id-10\" class=\"sk-toggleable__label sk-toggleable__label-arrow\">RandomForestClassifier</label><div class=\"sk-toggleable__content\"><pre>RandomForestClassifier(max_depth=10, min_samples_leaf=3, min_samples_split=16,\n                       n_estimators=710)</pre></div></div></div></div></div>"
          },
          "metadata": {}
        }
      ]
    },
    {
      "cell_type": "code",
      "source": [
        "clf.feature_importances_"
      ],
      "metadata": {
        "execution": {
          "iopub.status.busy": "2024-03-09T19:44:33.767885Z",
          "iopub.execute_input": "2024-03-09T19:44:33.768395Z",
          "iopub.status.idle": "2024-03-09T19:44:33.824837Z",
          "shell.execute_reply.started": "2024-03-09T19:44:33.768355Z",
          "shell.execute_reply": "2024-03-09T19:44:33.823376Z"
        },
        "trusted": true,
        "id": "zooe5n5Gyeya",
        "outputId": "67e4537c-ca0f-4ea3-9c02-8b772f3277fb"
      },
      "execution_count": null,
      "outputs": [
        {
          "execution_count": 45,
          "output_type": "execute_result",
          "data": {
            "text/plain": "array([0.00217898, 0.04044213, 0.01290081, 0.05224852, 0.05368193,\n       0.00491555, 0.0102217 , 0.05567338, 0.09797674, 0.00175478,\n       0.0016156 , 0.01257162, 0.00214186, 0.01709957, 0.03807391,\n       0.00109691, 0.00138737, 0.00645346, 0.00328101, 0.00099897,\n       0.00257166, 0.11053999, 0.01380177, 0.1427566 , 0.1498115 ,\n       0.01035974, 0.01053404, 0.03019558, 0.10166324, 0.00686228,\n       0.00418878])"
          },
          "metadata": {}
        }
      ]
    },
    {
      "cell_type": "code",
      "source": [],
      "metadata": {
        "id": "1pVs3oIZyeya"
      },
      "execution_count": null,
      "outputs": []
    }
  ]
}